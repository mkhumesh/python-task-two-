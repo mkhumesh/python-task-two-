{
 "cells": [
  {
   "cell_type": "markdown",
   "id": "e895be68-c28b-4540-b5b0-8c951ff463eb",
   "metadata": {},
   "source": [
    "# list and slice"
   ]
  },
  {
   "cell_type": "code",
   "execution_count": 25,
   "id": "3f42cd7a-0ea7-4c4c-88db-9359023b0d37",
   "metadata": {},
   "outputs": [],
   "source": [
    "A1 = [1,12,35,316,145,148,154,16,125,]"
   ]
  },
  {
   "cell_type": "code",
   "execution_count": 27,
   "id": "e4c43ad3-1f49-4ba1-82ab-c4fc6ce0e2ee",
   "metadata": {},
   "outputs": [
    {
     "data": {
      "text/plain": [
       "list"
      ]
     },
     "execution_count": 27,
     "metadata": {},
     "output_type": "execute_result"
    }
   ],
   "source": [
    "type(A1)"
   ]
  },
  {
   "cell_type": "code",
   "execution_count": 29,
   "id": "75df630e-6850-496d-9f71-e55f9c78a302",
   "metadata": {},
   "outputs": [
    {
     "data": {
      "text/plain": [
       "[]"
      ]
     },
     "execution_count": 29,
     "metadata": {},
     "output_type": "execute_result"
    }
   ],
   "source": [
    "list()"
   ]
  },
  {
   "cell_type": "code",
   "execution_count": 31,
   "id": "2cfeeae9-4eb1-4594-b26c-eae9bbef67a0",
   "metadata": {},
   "outputs": [
    {
     "data": {
      "text/plain": [
       "[1, 12, 35, 316, 145, 148, 154, 16, 125]"
      ]
     },
     "execution_count": 31,
     "metadata": {},
     "output_type": "execute_result"
    }
   ],
   "source": [
    "list(A1)"
   ]
  },
  {
   "cell_type": "code",
   "execution_count": 33,
   "id": "0e82f3aa-3d42-4a68-adbc-d894c344c6b6",
   "metadata": {},
   "outputs": [
    {
     "data": {
      "text/plain": [
       "[12, 35, 316, 145]"
      ]
     },
     "execution_count": 33,
     "metadata": {},
     "output_type": "execute_result"
    }
   ],
   "source": [
    "A1[1:5]"
   ]
  },
  {
   "cell_type": "code",
   "execution_count": 35,
   "id": "163c1131-3c40-457c-a9e7-36ec29624799",
   "metadata": {},
   "outputs": [],
   "source": [
    "A2 = [4,25,45,12,[1,2,8,6,],45,878,75,]"
   ]
  },
  {
   "cell_type": "code",
   "execution_count": 43,
   "id": "23eaa273-4606-4d82-9b33-376a7b0f12e2",
   "metadata": {},
   "outputs": [
    {
     "data": {
      "text/plain": [
       "[[1, 2, 8, 6], 45, 878]"
      ]
     },
     "execution_count": 43,
     "metadata": {},
     "output_type": "execute_result"
    }
   ],
   "source": [
    "A2[-4:-1]"
   ]
  },
  {
   "cell_type": "code",
   "execution_count": 45,
   "id": "6910147c-847f-4152-ad21-27dd9f2de80b",
   "metadata": {},
   "outputs": [
    {
     "data": {
      "text/plain": [
       "[1, 2, 8, 6]"
      ]
     },
     "execution_count": 45,
     "metadata": {},
     "output_type": "execute_result"
    }
   ],
   "source": [
    "A2[-4]"
   ]
  },
  {
   "cell_type": "code",
   "execution_count": 51,
   "id": "c8663f8c-2e66-40e1-8f26-998b1cae5bea",
   "metadata": {},
   "outputs": [],
   "source": [
    "A3 =[4,[25,45],12,[1,2,8,6,],45,[878,[2.3,1.0,5.234,75]]]"
   ]
  },
  {
   "cell_type": "code",
   "execution_count": 53,
   "id": "436b7d44-7e4d-491f-a612-fe9d128c0abd",
   "metadata": {},
   "outputs": [
    {
     "data": {
      "text/plain": [
       "[1, 2, 8, 6]"
      ]
     },
     "execution_count": 53,
     "metadata": {},
     "output_type": "execute_result"
    }
   ],
   "source": [
    "A3[-3]"
   ]
  },
  {
   "cell_type": "code",
   "execution_count": 55,
   "id": "d97b1839-d883-4c45-96b1-668b7dd9b294",
   "metadata": {},
   "outputs": [
    {
     "data": {
      "text/plain": [
       "[878, [2.3, 1.0, 5.234, 75]]"
      ]
     },
     "execution_count": 55,
     "metadata": {},
     "output_type": "execute_result"
    }
   ],
   "source": [
    "A3[-1]"
   ]
  },
  {
   "cell_type": "code",
   "execution_count": 57,
   "id": "ddeaecb1-ae7f-43d2-a60c-69e30f06349e",
   "metadata": {},
   "outputs": [],
   "source": [
    "A4 =[525,'gta',2536,'bvn',256,'nn']"
   ]
  },
  {
   "cell_type": "code",
   "execution_count": 59,
   "id": "42f58393-080f-47d0-a8f0-93584850d1c0",
   "metadata": {},
   "outputs": [
    {
     "data": {
      "text/plain": [
       "[525, 'gta', 2536, 'bvn', 256, 'nn']"
      ]
     },
     "execution_count": 59,
     "metadata": {},
     "output_type": "execute_result"
    }
   ],
   "source": [
    "A4"
   ]
  },
  {
   "cell_type": "code",
   "execution_count": 61,
   "id": "33150e29-6651-42a9-8a28-710d8182bcb7",
   "metadata": {},
   "outputs": [
    {
     "data": {
      "text/plain": [
       "[525, 'gta', 2536, 'bvn', 256]"
      ]
     },
     "execution_count": 61,
     "metadata": {},
     "output_type": "execute_result"
    }
   ],
   "source": [
    "A4[0:5]"
   ]
  },
  {
   "cell_type": "code",
   "execution_count": 71,
   "id": "75b31d23-fedf-4bb0-86c8-f5009b70eca5",
   "metadata": {},
   "outputs": [
    {
     "data": {
      "text/plain": [
       "[525, 'gta', 2536, 'bvn', 256]"
      ]
     },
     "execution_count": 71,
     "metadata": {},
     "output_type": "execute_result"
    }
   ],
   "source": [
    "A4[0:-1]"
   ]
  },
  {
   "cell_type": "code",
   "execution_count": 75,
   "id": "5e587757-236d-489d-bd08-28da5a767a22",
   "metadata": {},
   "outputs": [],
   "source": [
    "A5 =[ [525,['gta',2536],'bvn',256,['nn']]]"
   ]
  },
  {
   "cell_type": "code",
   "execution_count": 89,
   "id": "40fc69e0-f9a5-451c-9b01-8fd41d5f4537",
   "metadata": {},
   "outputs": [
    {
     "data": {
      "text/plain": [
       "[525, ['gta', 2536], 'bvn', 256, ['nn']]"
      ]
     },
     "execution_count": 89,
     "metadata": {},
     "output_type": "execute_result"
    }
   ],
   "source": [
    "A5[0]"
   ]
  },
  {
   "cell_type": "code",
   "execution_count": 91,
   "id": "c560d6f3-89ab-4f32-884b-353fa466b66b",
   "metadata": {},
   "outputs": [],
   "source": [
    "A6 = [525,['gta',2536],'bvn',256,['nn']]"
   ]
  },
  {
   "cell_type": "code",
   "execution_count": 93,
   "id": "6e7d77a7-debf-490e-987f-95bea4dd2da1",
   "metadata": {},
   "outputs": [
    {
     "data": {
      "text/plain": [
       "['gta', 2536]"
      ]
     },
     "execution_count": 93,
     "metadata": {},
     "output_type": "execute_result"
    }
   ],
   "source": [
    "A6[1]"
   ]
  },
  {
   "cell_type": "markdown",
   "id": "dee75e74-e25f-4d7a-b3ef-085865ca712e",
   "metadata": {},
   "source": [
    " # BOOLEAN"
   ]
  },
  {
   "cell_type": "code",
   "execution_count": 117,
   "id": "00639639-c729-4cd6-a25c-403c124a0c44",
   "metadata": {},
   "outputs": [],
   "source": [
    "GTA = 5\n",
    "GTAv = 6"
   ]
  },
  {
   "cell_type": "code",
   "execution_count": 119,
   "id": "d55a38fd-0e4b-41a4-bf6d-748dee8a1ba5",
   "metadata": {},
   "outputs": [
    {
     "data": {
      "text/plain": [
       "False"
      ]
     },
     "execution_count": 119,
     "metadata": {},
     "output_type": "execute_result"
    }
   ],
   "source": [
    "GTA > GTAv"
   ]
  },
  {
   "cell_type": "code",
   "execution_count": 121,
   "id": "45b918d4-f03b-4719-9f94-1cfa210ffe5b",
   "metadata": {},
   "outputs": [
    {
     "data": {
      "text/plain": [
       "True"
      ]
     },
     "execution_count": 121,
     "metadata": {},
     "output_type": "execute_result"
    }
   ],
   "source": [
    "GTA < GTAv"
   ]
  },
  {
   "cell_type": "code",
   "execution_count": 123,
   "id": "1195986e-1658-4612-a818-f579e3f9e4b7",
   "metadata": {},
   "outputs": [
    {
     "data": {
      "text/plain": [
       "False"
      ]
     },
     "execution_count": 123,
     "metadata": {},
     "output_type": "execute_result"
    }
   ],
   "source": [
    "GTA < GTA"
   ]
  },
  {
   "cell_type": "code",
   "execution_count": 131,
   "id": "2610ca07-de42-4ced-8a0f-9c263d98c3a3",
   "metadata": {},
   "outputs": [
    {
     "data": {
      "text/plain": [
       "5"
      ]
     },
     "execution_count": 131,
     "metadata": {},
     "output_type": "execute_result"
    }
   ],
   "source": [
    "GTA or GTAv\n"
   ]
  },
  {
   "cell_type": "code",
   "execution_count": 127,
   "id": "4c7f5b9d-b6a1-4dc7-9d87-3a731978fe66",
   "metadata": {},
   "outputs": [
    {
     "data": {
      "text/plain": [
       "6"
      ]
     },
     "execution_count": 127,
     "metadata": {},
     "output_type": "execute_result"
    }
   ],
   "source": [
    "GTA and GTAv"
   ]
  },
  {
   "cell_type": "code",
   "execution_count": 133,
   "id": "1a0f0f65-78d4-4f91-8040-7f4cb18b02a5",
   "metadata": {},
   "outputs": [
    {
     "data": {
      "text/plain": [
       "5"
      ]
     },
     "execution_count": 133,
     "metadata": {},
     "output_type": "execute_result"
    }
   ],
   "source": [
    "GTA or GTAv and GTA"
   ]
  },
  {
   "cell_type": "code",
   "execution_count": 137,
   "id": "efc78ab0-2d10-448d-a6d5-f5c274bd2520",
   "metadata": {},
   "outputs": [
    {
     "data": {
      "text/plain": [
       "6"
      ]
     },
     "execution_count": 137,
     "metadata": {},
     "output_type": "execute_result"
    }
   ],
   "source": [
    "GTAv or GTAv and GTAv"
   ]
  },
  {
   "cell_type": "code",
   "execution_count": 139,
   "id": "585d6262-03e2-4984-b308-4a741807e9e0",
   "metadata": {},
   "outputs": [
    {
     "data": {
      "text/plain": [
       "6"
      ]
     },
     "execution_count": 139,
     "metadata": {},
     "output_type": "execute_result"
    }
   ],
   "source": [
    "GTAv or GTA and GTAv"
   ]
  },
  {
   "cell_type": "markdown",
   "id": "085cdc29-5b67-4539-9c73-30bbe2951869",
   "metadata": {},
   "source": [
    "# int"
   ]
  },
  {
   "cell_type": "code",
   "execution_count": 142,
   "id": "5e31df1a-eeda-4b1e-8c62-b2e334967119",
   "metadata": {},
   "outputs": [],
   "source": [
    "A = 143\n",
    "\n",
    "B = 2546\n",
    "\n",
    "C = 1541"
   ]
  },
  {
   "cell_type": "code",
   "execution_count": 144,
   "id": "38d19faa-7ae6-472a-bd7e-646927cf8f95",
   "metadata": {},
   "outputs": [
    {
     "data": {
      "text/plain": [
       "143"
      ]
     },
     "execution_count": 144,
     "metadata": {},
     "output_type": "execute_result"
    }
   ],
   "source": [
    "A"
   ]
  },
  {
   "cell_type": "code",
   "execution_count": 146,
   "id": "6c450e14-e000-4d5e-bd26-90a1c05e1ccc",
   "metadata": {},
   "outputs": [
    {
     "data": {
      "text/plain": [
       "2546"
      ]
     },
     "execution_count": 146,
     "metadata": {},
     "output_type": "execute_result"
    }
   ],
   "source": [
    "B"
   ]
  },
  {
   "cell_type": "code",
   "execution_count": 148,
   "id": "ad5b5521-fb1e-4d91-960c-919f3ad68c74",
   "metadata": {},
   "outputs": [
    {
     "data": {
      "text/plain": [
       "1541"
      ]
     },
     "execution_count": 148,
     "metadata": {},
     "output_type": "execute_result"
    }
   ],
   "source": [
    "C"
   ]
  },
  {
   "cell_type": "code",
   "execution_count": 150,
   "id": "aee5e7b4-8d2c-4619-b818-e337f4cfa9e3",
   "metadata": {},
   "outputs": [
    {
     "data": {
      "text/plain": [
       "False"
      ]
     },
     "execution_count": 150,
     "metadata": {},
     "output_type": "execute_result"
    }
   ],
   "source": [
    "A>B"
   ]
  },
  {
   "cell_type": "code",
   "execution_count": 152,
   "id": "0ac87c21-35f9-4847-a592-92713f7a0593",
   "metadata": {},
   "outputs": [
    {
     "data": {
      "text/plain": [
       "True"
      ]
     },
     "execution_count": 152,
     "metadata": {},
     "output_type": "execute_result"
    }
   ],
   "source": [
    "A<B"
   ]
  },
  {
   "cell_type": "code",
   "execution_count": 158,
   "id": "0c940871-eeee-404e-8848-9d2336a76223",
   "metadata": {},
   "outputs": [],
   "source": [
    "sum = A+C"
   ]
  },
  {
   "cell_type": "code",
   "execution_count": 160,
   "id": "f044034f-478f-4321-85bc-033f8e36d920",
   "metadata": {},
   "outputs": [
    {
     "data": {
      "text/plain": [
       "1684"
      ]
     },
     "execution_count": 160,
     "metadata": {},
     "output_type": "execute_result"
    }
   ],
   "source": [
    "sum"
   ]
  },
  {
   "cell_type": "code",
   "execution_count": 200,
   "id": "3b389096-bf9e-43ce-b0f6-77a034bae900",
   "metadata": {},
   "outputs": [],
   "source": [
    "sum1 = A+1541"
   ]
  },
  {
   "cell_type": "code",
   "execution_count": 202,
   "id": "5605fc34-5cfe-45bc-8b56-df6261daa472",
   "metadata": {},
   "outputs": [
    {
     "data": {
      "text/plain": [
       "1684"
      ]
     },
     "execution_count": 202,
     "metadata": {},
     "output_type": "execute_result"
    }
   ],
   "source": [
    "sum1"
   ]
  },
  {
   "cell_type": "code",
   "execution_count": 180,
   "id": "6d8fcce7-4ed3-494d-b954-907a4af4222e",
   "metadata": {},
   "outputs": [],
   "source": [
    "mins = A-B"
   ]
  },
  {
   "cell_type": "code",
   "execution_count": 182,
   "id": "cd02833f-1428-433d-a90f-a7031fdefd9a",
   "metadata": {},
   "outputs": [
    {
     "data": {
      "text/plain": [
       "-2403"
      ]
     },
     "execution_count": 182,
     "metadata": {},
     "output_type": "execute_result"
    }
   ],
   "source": [
    "mins"
   ]
  },
  {
   "cell_type": "code",
   "execution_count": 184,
   "id": "50f4dac1-9a72-454f-a975-5852cdeeda50",
   "metadata": {},
   "outputs": [],
   "source": [
    "multification = A*C*B"
   ]
  },
  {
   "cell_type": "code",
   "execution_count": 186,
   "id": "fa57bafd-9ece-48d9-895d-5256783f3e61",
   "metadata": {},
   "outputs": [
    {
     "data": {
      "text/plain": [
       "561044198"
      ]
     },
     "execution_count": 186,
     "metadata": {},
     "output_type": "execute_result"
    }
   ],
   "source": [
    "multification"
   ]
  },
  {
   "cell_type": "code",
   "execution_count": 188,
   "id": "3f353440-05fd-48bb-b5a2-2a6fa38db1cf",
   "metadata": {},
   "outputs": [],
   "source": [
    "multification = A*C*B +20"
   ]
  },
  {
   "cell_type": "code",
   "execution_count": 190,
   "id": "e3c91ea8-021c-4534-aa85-b5032da07cdf",
   "metadata": {},
   "outputs": [
    {
     "data": {
      "text/plain": [
       "561044218"
      ]
     },
     "execution_count": 190,
     "metadata": {},
     "output_type": "execute_result"
    }
   ],
   "source": [
    "multification"
   ]
  },
  {
   "cell_type": "code",
   "execution_count": 196,
   "id": "36455185-3661-490b-bdc7-574cab75bc94",
   "metadata": {},
   "outputs": [],
   "source": [
    "division = A*B  /2"
   ]
  },
  {
   "cell_type": "code",
   "execution_count": 198,
   "id": "5cdfbffe-6619-4644-95ab-c62029f87470",
   "metadata": {},
   "outputs": [
    {
     "data": {
      "text/plain": [
       "182039.0"
      ]
     },
     "execution_count": 198,
     "metadata": {},
     "output_type": "execute_result"
    }
   ],
   "source": [
    "division"
   ]
  },
  {
   "cell_type": "code",
   "execution_count": 208,
   "id": "cc643b99-47ed-4c3e-9e83-0e3028aa2e68",
   "metadata": {},
   "outputs": [],
   "source": [
    "division =143/143"
   ]
  },
  {
   "cell_type": "code",
   "execution_count": 210,
   "id": "92f39732-4b2a-4784-b7d4-d9d88e6f6e8c",
   "metadata": {},
   "outputs": [
    {
     "data": {
      "text/plain": [
       "1.0"
      ]
     },
     "execution_count": 210,
     "metadata": {},
     "output_type": "execute_result"
    }
   ],
   "source": [
    "division"
   ]
  },
  {
   "cell_type": "code",
   "execution_count": 212,
   "id": "c11ae8e7-b4fd-4e29-b3bc-f7ea87e4721e",
   "metadata": {},
   "outputs": [],
   "source": [
    "division =143/9"
   ]
  },
  {
   "cell_type": "code",
   "execution_count": 214,
   "id": "8afeb061-447b-4deb-ac06-23cbf2f252c9",
   "metadata": {},
   "outputs": [
    {
     "data": {
      "text/plain": [
       "15.88888888888889"
      ]
     },
     "execution_count": 214,
     "metadata": {},
     "output_type": "execute_result"
    }
   ],
   "source": [
    "division"
   ]
  },
  {
   "cell_type": "markdown",
   "id": "62875b58-6e19-4542-a248-a2a1e423506c",
   "metadata": {},
   "source": [
    "# string"
   ]
  },
  {
   "cell_type": "code",
   "execution_count": 262,
   "id": "4c0f9572-d93a-4149-ba6d-1728d20f30df",
   "metadata": {},
   "outputs": [],
   "source": [
    "S1 = ' meri jan'"
   ]
  },
  {
   "cell_type": "code",
   "execution_count": 239,
   "id": "8bf71d64-2e8b-4867-a462-9965330b654e",
   "metadata": {},
   "outputs": [
    {
     "data": {
      "text/plain": [
       "str"
      ]
     },
     "execution_count": 239,
     "metadata": {},
     "output_type": "execute_result"
    }
   ],
   "source": [
    "type(S1)"
   ]
  },
  {
   "cell_type": "code",
   "execution_count": 266,
   "id": "b62244e9-e768-4e97-b794-0b4f5899fdcc",
   "metadata": {},
   "outputs": [],
   "source": [
    "d=S1"
   ]
  },
  {
   "cell_type": "code",
   "execution_count": 268,
   "id": "75284858-a327-45a5-a7eb-73cd3ec2c620",
   "metadata": {},
   "outputs": [
    {
     "data": {
      "text/plain": [
       "' meri jan'"
      ]
     },
     "execution_count": 268,
     "metadata": {},
     "output_type": "execute_result"
    }
   ],
   "source": [
    "d"
   ]
  },
  {
   "cell_type": "code",
   "execution_count": 274,
   "id": "45853fdd-92c2-457e-8278-a2bd1068fd39",
   "metadata": {},
   "outputs": [
    {
     "data": {
      "text/plain": [
       "9"
      ]
     },
     "execution_count": 274,
     "metadata": {},
     "output_type": "execute_result"
    }
   ],
   "source": [
    "len(d)"
   ]
  },
  {
   "cell_type": "code",
   "execution_count": 280,
   "id": "af328ad2-7b2e-4866-b792-712cac4cc6cf",
   "metadata": {},
   "outputs": [
    {
     "data": {
      "text/plain": [
       "' MERI JAN'"
      ]
     },
     "execution_count": 280,
     "metadata": {},
     "output_type": "execute_result"
    }
   ],
   "source": [
    "d.upper()"
   ]
  },
  {
   "cell_type": "code",
   "execution_count": 282,
   "id": "3908f9f6-56c1-432f-abe9-a160d626722e",
   "metadata": {},
   "outputs": [
    {
     "data": {
      "text/plain": [
       "' meri jai'"
      ]
     },
     "execution_count": 282,
     "metadata": {},
     "output_type": "execute_result"
    }
   ],
   "source": [
    "d.replace('n','i')"
   ]
  }
 ],
 "metadata": {
  "kernelspec": {
   "display_name": "Python 3 (ipykernel)",
   "language": "python",
   "name": "python3"
  },
  "language_info": {
   "codemirror_mode": {
    "name": "ipython",
    "version": 3
   },
   "file_extension": ".py",
   "mimetype": "text/x-python",
   "name": "python",
   "nbconvert_exporter": "python",
   "pygments_lexer": "ipython3",
   "version": "3.12.4"
  }
 },
 "nbformat": 4,
 "nbformat_minor": 5
}
